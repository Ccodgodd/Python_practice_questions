{
  "nbformat": 4,
  "nbformat_minor": 0,
  "metadata": {
    "colab": {
      "provenance": []
    },
    "kernelspec": {
      "name": "python3",
      "display_name": "Python 3"
    },
    "language_info": {
      "name": "python"
    }
  },
  "cells": [
    {
      "cell_type": "code",
      "execution_count": null,
      "metadata": {
        "colab": {
          "base_uri": "https://localhost:8080/"
        },
        "id": "XmDbdeNDYJFZ",
        "outputId": "9b0a4e12-593f-4baa-cbfe-b8d33dfd57a8"
      },
      "outputs": [
        {
          "output_type": "stream",
          "name": "stdout",
          "text": [
            "entre the value u need to get it as squate root:25\n",
            "5.0\n"
          ]
        }
      ],
      "source": [
        "'''so in this we are gonna find the square root of a given number'''\n",
        "r=float(input(\"entre the value u need to get it as squate root:\"))\n",
        "s=r**(1/2)\n",
        "print(s)"
      ]
    },
    {
      "cell_type": "markdown",
      "source": [
        "so using the function we are find the square roo"
      ],
      "metadata": {
        "id": "5SjK5BDfZbi6"
      }
    },
    {
      "cell_type": "code",
      "source": [
        "from math import sqrt\n",
        "a = int(input(\"Enter the number which u need to find the sqrt:\"))\n",
        "b = sqrt(a)\n",
        "print(b)"
      ],
      "metadata": {
        "colab": {
          "base_uri": "https://localhost:8080/"
        },
        "id": "otCu3WupZfQ0",
        "outputId": "db0b53fe-2807-4db2-cf7f-d4ad72ee3503"
      },
      "execution_count": null,
      "outputs": [
        {
          "output_type": "stream",
          "name": "stdout",
          "text": [
            "Enter the number which u need to find the sqrt:16\n",
            "4.0\n"
          ]
        }
      ]
    },
    {
      "cell_type": "code",
      "source": [
        "#to find the are of a triangle\n",
        "b = float(input('entre the base in cm:'))\n",
        "h = float(input('entre the height in cm:'))\n",
        "area = (1/2)*b*h\n",
        "print(\"The area of a traingle for the given length and height is:\",area)"
      ],
      "metadata": {
        "colab": {
          "base_uri": "https://localhost:8080/"
        },
        "id": "zhPDBCjkZ0RX",
        "outputId": "406e0318-ef19-4786-f770-c889da1cfe92"
      },
      "execution_count": null,
      "outputs": [
        {
          "output_type": "stream",
          "name": "stdout",
          "text": [
            "entre the base in cm:2\n",
            "entre the height in cm:4\n",
            "The area of a traingle for the given length and height is:%f 4.0\n"
          ]
        }
      ]
    },
    {
      "cell_type": "markdown",
      "source": [
        "In this we are gonna swap two variables"
      ],
      "metadata": {
        "id": "7vWPhSqZb5py"
      }
    },
    {
      "cell_type": "code",
      "source": [
        "r=int(input('entre the value of 1:\\t'))\n",
        "s=int(input(\"entre the value of 2:\\t\"))\n",
        "temp=r\n",
        "r=s\n",
        "s=temp\n",
        "print(r)\n",
        "print(s)"
      ],
      "metadata": {
        "colab": {
          "base_uri": "https://localhost:8080/"
        },
        "id": "Gt8jthRHbjHD",
        "outputId": "aaf91bfc-d4eb-4ca4-9ac1-2175fe165441"
      },
      "execution_count": null,
      "outputs": [
        {
          "output_type": "stream",
          "name": "stdout",
          "text": [
            "entre the value of 1:\t12\n",
            "entre the value of 2:\t23\n",
            "23\n",
            "12\n"
          ]
        }
      ]
    },
    {
      "cell_type": "markdown",
      "source": [
        "2nd way is x,y=y,x"
      ],
      "metadata": {
        "id": "PzfpD7ARcfyU"
      }
    },
    {
      "cell_type": "markdown",
      "source": [
        "conversion of kilometre t miles"
      ],
      "metadata": {
        "id": "mI-WPfmwcyQ9"
      }
    },
    {
      "cell_type": "code",
      "source": [
        "kilo=int(input('entre the kilometre which u need to convert:\\t'))\n",
        "miles=0.621371*kilo\n",
        "print(miles)"
      ],
      "metadata": {
        "colab": {
          "base_uri": "https://localhost:8080/"
        },
        "id": "GT3QP5_LcrEx",
        "outputId": "1de2e202-1981-40e8-81ca-792e0d42ec6f"
      },
      "execution_count": null,
      "outputs": [
        {
          "output_type": "stream",
          "name": "stdout",
          "text": [
            "entre the kilometre which u need to convert:\t133\n",
            "82.642343\n"
          ]
        }
      ]
    },
    {
      "cell_type": "markdown",
      "source": [
        "checking wheather a number is positive or negative"
      ],
      "metadata": {
        "id": "doFIHsM6dOYd"
      }
    },
    {
      "cell_type": "code",
      "source": [
        "r=int(input('entre the first number:\\t'))\n",
        "if r>=0:\n",
        "  print('positive good to go!!')\n",
        "else:\n",
        "  print('negative bad to goo!!')"
      ],
      "metadata": {
        "colab": {
          "base_uri": "https://localhost:8080/"
        },
        "id": "5IsSV6tydK52",
        "outputId": "cfc6c0ed-9cc7-4e77-cdbf-4809b2657817"
      },
      "execution_count": null,
      "outputs": [
        {
          "output_type": "stream",
          "name": "stdout",
          "text": [
            "entre the first number:\t-99\n",
            "negative bad to goo!!\n"
          ]
        }
      ]
    },
    {
      "cell_type": "markdown",
      "source": [
        "checking whether a number is even or odd"
      ],
      "metadata": {
        "id": "T3jNxiW8d1zs"
      }
    },
    {
      "cell_type": "code",
      "source": [
        "r=int(input('entre the number:\\t'))\n",
        "if r%2==0:\n",
        "  print('the number is even')\n",
        "else:\n",
        "  print('odd')\n"
      ],
      "metadata": {
        "colab": {
          "base_uri": "https://localhost:8080/"
        },
        "id": "PdTVpfR7d4eH",
        "outputId": "fa1d5d3a-c119-4e0c-854c-242fd7857afd"
      },
      "execution_count": null,
      "outputs": [
        {
          "output_type": "stream",
          "name": "stdout",
          "text": [
            "entre the number:\t33\n",
            "odd\n"
          ]
        }
      ]
    },
    {
      "cell_type": "markdown",
      "source": [
        "to check wheather the given year is leap year or not"
      ],
      "metadata": {
        "id": "TBl5VLm_eceX"
      }
    },
    {
      "cell_type": "code",
      "source": [
        "year=float(input('entre the year which u need to check:\\t'))\n",
        "if year%4==0:\n",
        "  print(\"congrats leap year!!\")\n",
        "else:\n",
        "  print('it is not!!')"
      ],
      "metadata": {
        "colab": {
          "base_uri": "https://localhost:8080/"
        },
        "id": "QFbK746oegjQ",
        "outputId": "e443fdcd-7f84-4c61-cd16-13066643de51"
      },
      "execution_count": null,
      "outputs": [
        {
          "output_type": "stream",
          "name": "stdout",
          "text": [
            "entre the year which u need to check:\t2000\n",
            "congrats leap year!!\n"
          ]
        }
      ]
    },
    {
      "cell_type": "markdown",
      "source": [
        "program to find the largest number among the given three numbers"
      ],
      "metadata": {
        "id": "AVDVPDLYfIwI"
      }
    },
    {
      "cell_type": "code",
      "source": [
        "r=float(input('entre the 1st number:\\t'))\n",
        "s=float(input('entre the 2nd number:\\t'))\n",
        "q=float(input('entre the 3rd number:\\t'))\n",
        "\n",
        "if(r>s and r>q):\n",
        "  print(\"the greatest number is:\\t\",r)\n",
        "elif(s>r and s>q):\n",
        "   print(\"the greatest number is:\\t\",s)\n",
        "else:\n",
        "   print(\"the greatest number is:\\t\",q)"
      ],
      "metadata": {
        "colab": {
          "base_uri": "https://localhost:8080/"
        },
        "id": "bGu_3aU7eUaV",
        "outputId": "fdc27156-b849-4685-8f33-bfb29f9793c5"
      },
      "execution_count": null,
      "outputs": [
        {
          "output_type": "stream",
          "name": "stdout",
          "text": [
            "entre the 1st number:\t13\n",
            "entre the 2nd number:\t10\n",
            "entre the 3rd number:\t23\n",
            "the greatest number is:\t 23.0\n"
          ]
        }
      ]
    },
    {
      "cell_type": "markdown",
      "source": [
        "******to check whether a number is prime or not********"
      ],
      "metadata": {
        "id": "u6C7ltX2gEKg"
      }
    },
    {
      "cell_type": "code",
      "source": [
        "r=float(input('entre the value to check :\\t'))\n",
        "for r in range(11):\n",
        "\n",
        "  if r%2==0 and r!=2:\n",
        "    print('not prime')\n",
        "    print(r)\n",
        "  else:\n",
        "    print(\"prime!!\")\n",
        "    print(r)"
      ],
      "metadata": {
        "colab": {
          "base_uri": "https://localhost:8080/"
        },
        "id": "qlJsKmSRgIsl",
        "outputId": "93deb353-11c7-47e6-81bf-62e3c48ce061"
      },
      "execution_count": null,
      "outputs": [
        {
          "output_type": "stream",
          "name": "stdout",
          "text": [
            "entre the value to check :\t15\n",
            "not prime\n",
            "0\n",
            "prime!!\n",
            "1\n",
            "prime!!\n",
            "2\n",
            "prime!!\n",
            "3\n",
            "not prime\n",
            "4\n",
            "prime!!\n",
            "5\n",
            "not prime\n",
            "6\n",
            "prime!!\n",
            "7\n",
            "not prime\n",
            "8\n",
            "prime!!\n",
            "9\n",
            "not prime\n",
            "10\n"
          ]
        }
      ]
    },
    {
      "cell_type": "markdown",
      "source": [
        "If we wnat to find the prime number under the given inter value"
      ],
      "metadata": {
        "id": "cT4nkAXSRDag"
      }
    },
    {
      "cell_type": "code",
      "source": [
        "upper=int(input('entre the upper limit:\\t'))\n",
        "lower=int(input('entre the lower limit:\\t'))\n",
        "for i in range(lower,upper+1):\n",
        "  print('we are gonna print the prime number in the given interva;')\n",
        "  if"
      ],
      "metadata": {
        "id": "pWYXnvQFRKYJ"
      },
      "execution_count": null,
      "outputs": []
    },
    {
      "cell_type": "code",
      "source": [
        "n=int(input(\"Enter the number of rows u wanna print:=\"))\n",
        "for i in range(1,n+1):\n",
        "  for j in range(1,n+1):\n",
        "    if j<=(n):\n",
        "      print(\"#\",end=\" \")\n",
        "    else:\n",
        "      continue\n",
        "  print()"
      ],
      "metadata": {
        "colab": {
          "base_uri": "https://localhost:8080/"
        },
        "id": "KAbspvQTYRdQ",
        "outputId": "c8859bcc-88bd-456e-b134-1e6acc8aed44"
      },
      "execution_count": null,
      "outputs": [
        {
          "output_type": "stream",
          "name": "stdout",
          "text": [
            "Enter the number of rows u wanna print:=5\n",
            "# # # # # \n",
            "# # # # # \n",
            "# # # # # \n",
            "# # # # # \n",
            "# # # # # \n"
          ]
        }
      ]
    },
    {
      "cell_type": "code",
      "source": [
        "n=int(input(\"Enter the number of rows u wanna print:-\"))\n",
        "for i in range(1,n+1):\n",
        "  for j in range(1,i+1):\n",
        "    print(\"#\",end=\"\")\n",
        "  print(\"\")"
      ],
      "metadata": {
        "colab": {
          "base_uri": "https://localhost:8080/"
        },
        "id": "JvA1tVEDZHZT",
        "outputId": "1447abec-a31a-44b9-f6c0-3505ec2ad8f8"
      },
      "execution_count": null,
      "outputs": [
        {
          "output_type": "stream",
          "name": "stdout",
          "text": [
            "Enter the number of rows u wanna print:-4\n",
            "#\n",
            "##\n",
            "###\n",
            "####\n"
          ]
        }
      ]
    },
    {
      "cell_type": "code",
      "source": [
        "n=int(input(\"Enter the number of rows u wanna print:-\"))\n",
        "for i in range(1,n+1):\n",
        "  for j in range(4,0,-1):\n",
        "    if j>=i:\n",
        "      print(\"#\",end=\"\")\n",
        "    else:\n",
        "      continue\n",
        "\n",
        "  print(\"\")\n"
      ],
      "metadata": {
        "colab": {
          "base_uri": "https://localhost:8080/"
        },
        "id": "gqprgBCCZwri",
        "outputId": "85d483e5-8a90-488b-98d9-502733a3ccc8"
      },
      "execution_count": null,
      "outputs": [
        {
          "output_type": "stream",
          "name": "stdout",
          "text": [
            "Enter the number of rows u wanna print:-4\n",
            "####\n",
            "###\n",
            "##\n",
            "#\n"
          ]
        }
      ]
    },
    {
      "cell_type": "code",
      "source": [
        "n=int(input(\"Enter the number of rows u wanna print:\"))\n",
        "for i in range(1,n+1):\n",
        "  for j in range(1,n+1):\n",
        "    if j>=i:\n",
        "      print(\"#\",end=\"\")\n",
        "    else:\n",
        "      print(\" \",end=\"\")\n",
        "\n",
        "  print(\" \")"
      ],
      "metadata": {
        "colab": {
          "base_uri": "https://localhost:8080/"
        },
        "id": "gAFMuQhLbe0c",
        "outputId": "2d5c441f-f8f9-46be-c1e9-873a51bcad70"
      },
      "execution_count": null,
      "outputs": [
        {
          "output_type": "stream",
          "name": "stdout",
          "text": [
            "Enter the number of rows u wanna print:5\n",
            "##### \n",
            " #### \n",
            "  ### \n",
            "   ## \n",
            "    # \n"
          ]
        }
      ]
    },
    {
      "cell_type": "code",
      "source": [
        "n=int(input(\"Enter the number of rows u wanna print:--\"))\n",
        "for i in range(1,n+1):\n",
        "  for j in range(1,n+1):\n",
        "    if j<=i:\n",
        "      print(\"#\",end=\"\")\n",
        "    else:\n",
        "      print(\" \",end=\"\")\n",
        "\n",
        "  print(\" \")"
      ],
      "metadata": {
        "colab": {
          "base_uri": "https://localhost:8080/"
        },
        "id": "9RvFeZoeeY4O",
        "outputId": "f1b00144-91a4-4449-ae9f-c4ebe2225e09"
      },
      "execution_count": null,
      "outputs": [
        {
          "output_type": "stream",
          "name": "stdout",
          "text": [
            "Enter the number of rows u wanna print:--5\n",
            "#     \n",
            "##    \n",
            "###   \n",
            "####  \n",
            "##### \n"
          ]
        }
      ]
    },
    {
      "cell_type": "code",
      "source": [
        "n=int(input(\"Enter the number of rows u wanna print:--\"))\n",
        "for i in range(1,n+1):\n",
        "  for j in range(1,n+1):\n",
        "    if j<=n-i:\n",
        "      print(\" \",end=\" \")\n",
        "    else:\n",
        "      print(\"#\",end=\" \")\n",
        "\n",
        "  print(\" \")"
      ],
      "metadata": {
        "colab": {
          "base_uri": "https://localhost:8080/"
        },
        "id": "9XBjOsXifkIg",
        "outputId": "9999beb2-88e0-4351-c2af-d905da474c50"
      },
      "execution_count": null,
      "outputs": [
        {
          "output_type": "stream",
          "name": "stdout",
          "text": [
            "Enter the number of rows u wanna print:--5\n",
            "        #  \n",
            "      # #  \n",
            "    # # #  \n",
            "  # # # #  \n",
            "# # # # #  \n"
          ]
        }
      ]
    },
    {
      "cell_type": "code",
      "source": [
        "n=int(input(\"Enter the number of rows u wanna print:--\"))\n",
        "for i in range(1,n+1):\n",
        "  for j in range(1,n+1):\n",
        "    if j<=n-i:\n",
        "      print(\"#\",end=\" \")\n",
        "    else:\n",
        "      print(\" \",end=\" \")\n",
        "\n",
        "  print(\" \")"
      ],
      "metadata": {
        "colab": {
          "base_uri": "https://localhost:8080/"
        },
        "id": "vgZbLmH2g_gt",
        "outputId": "c51a0f65-5f49-4ae3-eb1c-dc00fe37f270"
      },
      "execution_count": null,
      "outputs": [
        {
          "output_type": "stream",
          "name": "stdout",
          "text": [
            "Enter the number of rows u wanna print:--5\n",
            "# # # #    \n",
            "# # #      \n",
            "# #        \n",
            "#          \n",
            "           \n"
          ]
        }
      ]
    },
    {
      "cell_type": "code",
      "source": [
        "n=int(input(\"Enter the number of rows u wanna print:--\"))\n",
        "s=n\n",
        "for i in range(1,n+1):\n",
        "  for j in range(1,n+1):\n",
        "    if j<=i-1:\n",
        "      print(\" \",end=\" \")\n",
        "\n",
        "    else:\n",
        "      print(\"#\",end=\" \")\n",
        "\n",
        "\n",
        "\n",
        "  print(\" \")"
      ],
      "metadata": {
        "colab": {
          "base_uri": "https://localhost:8080/"
        },
        "id": "BFIl0ZGhh_3E",
        "outputId": "bdba3bb8-6f23-4f79-ab1a-9fba6704c962"
      },
      "execution_count": null,
      "outputs": [
        {
          "output_type": "stream",
          "name": "stdout",
          "text": [
            "Enter the number of rows u wanna print:--5\n",
            "# # # # #  \n",
            "  # # # #  \n",
            "    # # #  \n",
            "      # #  \n",
            "        #  \n"
          ]
        }
      ]
    },
    {
      "cell_type": "markdown",
      "source": [],
      "metadata": {
        "id": "sR0FeiJvL3fc"
      }
    },
    {
      "cell_type": "code",
      "source": [
        "\n",
        "for i in range(1,11):\n",
        "  print(i)\n",
        "print('done')"
      ],
      "metadata": {
        "colab": {
          "base_uri": "https://localhost:8080/"
        },
        "id": "wWkamESKL0A-",
        "outputId": "49e51257-26e7-48e2-d5f8-347158055bce"
      },
      "execution_count": 1,
      "outputs": [
        {
          "output_type": "stream",
          "name": "stdout",
          "text": [
            "1\n",
            "2\n",
            "3\n",
            "4\n",
            "5\n",
            "6\n",
            "7\n",
            "8\n",
            "9\n",
            "10\n",
            "done\n"
          ]
        }
      ]
    },
    {
      "cell_type": "code",
      "source": [
        "sum=0\n",
        "for i in range (1,11):\n",
        "  print(i)\n",
        "  sum=sum+i\n",
        "\n",
        "print('the final sum of this 10 natural number is:',sum)\n",
        "\n",
        "print('the final sum of this 10 natural number is:',sum)"
      ],
      "metadata": {
        "colab": {
          "base_uri": "https://localhost:8080/"
        },
        "id": "tyctN2W5OjqD",
        "outputId": "d553fe2c-e28b-4094-d832-80741dcf705d"
      },
      "execution_count": 3,
      "outputs": [
        {
          "output_type": "stream",
          "name": "stdout",
          "text": [
            "1\n",
            "2\n",
            "3\n",
            "4\n",
            "5\n",
            "6\n",
            "7\n",
            "8\n",
            "9\n",
            "10\n",
            "the final sum of this 10 natural number is: 55\n",
            "the final sum of this 10 natural number is: 55\n"
          ]
        }
      ]
    },
    {
      "cell_type": "code",
      "source": [
        "#average of the first 10 natural numbers\n",
        "sum=0\n",
        "for i in range (0,11):\n",
        "  print(i)\n",
        "  sum=sum+i\n",
        "\n",
        "average=sum/10\n",
        "print(average)\n"
      ],
      "metadata": {
        "colab": {
          "base_uri": "https://localhost:8080/"
        },
        "id": "4sCrvq-IPNqv",
        "outputId": "8952fb50-782a-489e-84fb-308e811566f2"
      },
      "execution_count": 4,
      "outputs": [
        {
          "output_type": "stream",
          "name": "stdout",
          "text": [
            "0\n",
            "1\n",
            "2\n",
            "3\n",
            "4\n",
            "5\n",
            "6\n",
            "7\n",
            "8\n",
            "9\n",
            "10\n",
            "5.5\n"
          ]
        }
      ]
    },
    {
      "cell_type": "code",
      "source": [
        "n=int(input('Entre the number u need to find the cube root'))\n",
        "for n in range (1,n+1):\n",
        "  print(n)\n",
        "  cube=n*n*n\n",
        "  print('the cube of the number:',n,'is:',cube)\n",
        "\n",
        "print(cube)\n"
      ],
      "metadata": {
        "colab": {
          "base_uri": "https://localhost:8080/"
        },
        "id": "Wqz36pxA_cZy",
        "outputId": "a7519942-cac1-42a2-bc0b-49f59f39c810"
      },
      "execution_count": 5,
      "outputs": [
        {
          "output_type": "stream",
          "name": "stdout",
          "text": [
            "Entre the number u need to find the cube root33\n",
            "1\n",
            "the cube of the number: 1 is: 1\n",
            "2\n",
            "the cube of the number: 2 is: 8\n",
            "3\n",
            "the cube of the number: 3 is: 27\n",
            "4\n",
            "the cube of the number: 4 is: 64\n",
            "5\n",
            "the cube of the number: 5 is: 125\n",
            "6\n",
            "the cube of the number: 6 is: 216\n",
            "7\n",
            "the cube of the number: 7 is: 343\n",
            "8\n",
            "the cube of the number: 8 is: 512\n",
            "9\n",
            "the cube of the number: 9 is: 729\n",
            "10\n",
            "the cube of the number: 10 is: 1000\n",
            "11\n",
            "the cube of the number: 11 is: 1331\n",
            "12\n",
            "the cube of the number: 12 is: 1728\n",
            "13\n",
            "the cube of the number: 13 is: 2197\n",
            "14\n",
            "the cube of the number: 14 is: 2744\n",
            "15\n",
            "the cube of the number: 15 is: 3375\n",
            "16\n",
            "the cube of the number: 16 is: 4096\n",
            "17\n",
            "the cube of the number: 17 is: 4913\n",
            "18\n",
            "the cube of the number: 18 is: 5832\n",
            "19\n",
            "the cube of the number: 19 is: 6859\n",
            "20\n",
            "the cube of the number: 20 is: 8000\n",
            "21\n",
            "the cube of the number: 21 is: 9261\n",
            "22\n",
            "the cube of the number: 22 is: 10648\n",
            "23\n",
            "the cube of the number: 23 is: 12167\n",
            "24\n",
            "the cube of the number: 24 is: 13824\n",
            "25\n",
            "the cube of the number: 25 is: 15625\n",
            "26\n",
            "the cube of the number: 26 is: 17576\n",
            "27\n",
            "the cube of the number: 27 is: 19683\n",
            "28\n",
            "the cube of the number: 28 is: 21952\n",
            "29\n",
            "the cube of the number: 29 is: 24389\n",
            "30\n",
            "the cube of the number: 30 is: 27000\n",
            "31\n",
            "the cube of the number: 31 is: 29791\n",
            "32\n",
            "the cube of the number: 32 is: 32768\n",
            "33\n",
            "the cube of the number: 33 is: 35937\n",
            "35937\n"
          ]
        }
      ]
    },
    {
      "cell_type": "code",
      "source": [
        "n=int(input('Entre the number which u need to find the multiplication:'))\n",
        "\n",
        "for i in range (1,16):\n",
        " multi=i*n\n",
        " print(multi)\n",
        "print('The above is the multiplication table forthe number:',n)"
      ],
      "metadata": {
        "id": "4JvkGPxp_ej6"
      },
      "execution_count": null,
      "outputs": []
    },
    {
      "cell_type": "code",
      "source": [
        "\n",
        "for i in range (0,10):\n",
        " i=i+1\n",
        " print(i)"
      ],
      "metadata": {
        "colab": {
          "base_uri": "https://localhost:8080/"
        },
        "id": "9ycx5H_n_kJU",
        "outputId": "a0769a5d-0efd-45d2-903f-3244b6450aba"
      },
      "execution_count": 6,
      "outputs": [
        {
          "output_type": "stream",
          "name": "stdout",
          "text": [
            "1\n",
            "2\n",
            "3\n",
            "4\n",
            "5\n",
            "6\n",
            "7\n",
            "8\n",
            "9\n",
            "10\n"
          ]
        }
      ]
    },
    {
      "cell_type": "code",
      "source": [
        "square = lambda x: x**2\n",
        "print(square(5))  # Output: 25\n"
      ],
      "metadata": {
        "colab": {
          "base_uri": "https://localhost:8080/"
        },
        "id": "AzLCRwVG_khW",
        "outputId": "f95302c4-f398-4861-da74-573bc1ca75e2"
      },
      "execution_count": 7,
      "outputs": [
        {
          "output_type": "stream",
          "name": "stdout",
          "text": [
            "25\n"
          ]
        }
      ]
    },
    {
      "cell_type": "code",
      "source": [
        "numbers = [1, 2, 3, 4, 5]\n",
        "doubled = list(map(lambda x: x * 2, numbers))\n",
        "print(doubled)  # Output: [2, 4, 6, 8, 10]\n"
      ],
      "metadata": {
        "colab": {
          "base_uri": "https://localhost:8080/"
        },
        "id": "iIuy8_Tn_1Rb",
        "outputId": "ea04d8cc-1eed-43d3-c0c7-14cc1370fc09"
      },
      "execution_count": 8,
      "outputs": [
        {
          "output_type": "stream",
          "name": "stdout",
          "text": [
            "[2, 4, 6, 8, 10]\n"
          ]
        }
      ]
    },
    {
      "cell_type": "code",
      "source": [
        "nums = [10, 15, 20, 25, 30]\n",
        "evens = list(filter(lambda x: x % 2 == 0, nums))\n",
        "print(evens)  # Output: [10, 20, 30]\n"
      ],
      "metadata": {
        "colab": {
          "base_uri": "https://localhost:8080/"
        },
        "id": "dpXgTElX_3P3",
        "outputId": "e6bbe21f-3db9-4327-cc43-e51592a4876e"
      },
      "execution_count": 9,
      "outputs": [
        {
          "output_type": "stream",
          "name": "stdout",
          "text": [
            "[10, 20, 30]\n"
          ]
        }
      ]
    },
    {
      "cell_type": "code",
      "source": [
        "for i in range(1, 11):\n",
        "    print(i)\n"
      ],
      "metadata": {
        "colab": {
          "base_uri": "https://localhost:8080/"
        },
        "id": "z122ddyf_48W",
        "outputId": "bce2010b-e396-4588-ffbb-d246b6670b4a"
      },
      "execution_count": 10,
      "outputs": [
        {
          "output_type": "stream",
          "name": "stdout",
          "text": [
            "1\n",
            "2\n",
            "3\n",
            "4\n",
            "5\n",
            "6\n",
            "7\n",
            "8\n",
            "9\n",
            "10\n"
          ]
        }
      ]
    },
    {
      "cell_type": "code",
      "source": [
        "student = {'name': 'Nandhu', 'age': 21, 'course': 'MCA'}\n",
        "\n",
        "for key, value in student.items():\n",
        "    print(f\"{key}: {value}\")\n"
      ],
      "metadata": {
        "colab": {
          "base_uri": "https://localhost:8080/"
        },
        "id": "IVnx5X3q_6lx",
        "outputId": "aabf668c-1b6d-4124-cbac-e8d6f65eaf27"
      },
      "execution_count": 11,
      "outputs": [
        {
          "output_type": "stream",
          "name": "stdout",
          "text": [
            "name: Nandhu\n",
            "age: 21\n",
            "course: MCA\n"
          ]
        }
      ]
    },
    {
      "cell_type": "code",
      "source": [
        "numbers = [5, 10, 15, 20]\n",
        "total = 0\n",
        "\n",
        "for num in numbers:\n",
        "    total += num\n",
        "\n",
        "print(\"Sum:\", total)  # Output: Sum: 50\n"
      ],
      "metadata": {
        "colab": {
          "base_uri": "https://localhost:8080/"
        },
        "id": "66SqSaAR_8Ze",
        "outputId": "7fdb2574-101f-4e1a-df14-3ac36ecea368"
      },
      "execution_count": 12,
      "outputs": [
        {
          "output_type": "stream",
          "name": "stdout",
          "text": [
            "Sum: 50\n"
          ]
        }
      ]
    },
    {
      "cell_type": "code",
      "source": [
        "class Student:\n",
        "    def __init__(self, name, roll_no, course):\n",
        "        self.name = name\n",
        "        self.roll_no = roll_no\n",
        "        self.course = course\n",
        "\n",
        "student1 = Student(\"Nandhu\", \"MCA101\", \"MCA\")\n",
        "print(student1.name)\n",
        "print(student1.roll_no)\n",
        "print(student1.course)\n"
      ],
      "metadata": {
        "colab": {
          "base_uri": "https://localhost:8080/"
        },
        "id": "MC53F7xd_-G-",
        "outputId": "85f71674-0df5-4026-d2ab-4d4c25ef993f"
      },
      "execution_count": 13,
      "outputs": [
        {
          "output_type": "stream",
          "name": "stdout",
          "text": [
            "Nandhu\n",
            "MCA101\n",
            "MCA\n"
          ]
        }
      ]
    },
    {
      "cell_type": "code",
      "source": [
        "import math\n",
        "\n",
        "class Circle:\n",
        "    def __init__(self, radius):\n",
        "        self.radius = radius\n",
        "\n",
        "    def area(self):\n",
        "        return math.pi * self.radius ** 2\n",
        "\n",
        "c = Circle(5)\n",
        "print(\"Area of circle:\", c.area())\n"
      ],
      "metadata": {
        "colab": {
          "base_uri": "https://localhost:8080/"
        },
        "id": "tPwSW1PK__sD",
        "outputId": "f6ff744e-e6e3-45b5-b957-bae6a3e63424"
      },
      "execution_count": 14,
      "outputs": [
        {
          "output_type": "stream",
          "name": "stdout",
          "text": [
            "Area of circle: 78.53981633974483\n"
          ]
        }
      ]
    },
    {
      "cell_type": "code",
      "source": [
        "class Person:\n",
        "    def __init__(self, name):\n",
        "        self.name = name\n",
        "\n",
        "    def show(self):\n",
        "        print(\"Name:\", self.name)\n",
        "\n",
        "class Student(Person):\n",
        "    def __init__(self, name, course):\n",
        "        super().__init__(name)\n",
        "        self.course = course\n",
        "\n",
        "    def show_details(self):\n",
        "        self.show()\n",
        "        print(\"Course:\", self.course)\n",
        "\n",
        "s = Student(\"Nandhu\", \"MCA\")\n",
        "s.show_details()\n"
      ],
      "metadata": {
        "colab": {
          "base_uri": "https://localhost:8080/"
        },
        "id": "Ng1TZnpmABau",
        "outputId": "a4e031d5-bf79-4b32-e63f-7934b3297db9"
      },
      "execution_count": 15,
      "outputs": [
        {
          "output_type": "stream",
          "name": "stdout",
          "text": [
            "Name: Nandhu\n",
            "Course: MCA\n"
          ]
        }
      ]
    },
    {
      "cell_type": "code",
      "source": [
        "class Counter:\n",
        "    def count_to(self, n):\n",
        "        for i in range(1, n + 1):\n",
        "            print(i, end=' ')\n",
        "\n",
        "c = Counter()\n",
        "c.count_to(5)  # Output: 1 2 3 4 5\n"
      ],
      "metadata": {
        "colab": {
          "base_uri": "https://localhost:8080/"
        },
        "id": "SSJR87C8ADDx",
        "outputId": "a0cff53b-84e4-4932-cae2-fdca54784e36"
      },
      "execution_count": 16,
      "outputs": [
        {
          "output_type": "stream",
          "name": "stdout",
          "text": [
            "1 2 3 4 5 "
          ]
        }
      ]
    },
    {
      "cell_type": "code",
      "source": [],
      "metadata": {
        "id": "KKIgX4lzAE78"
      },
      "execution_count": null,
      "outputs": []
    }
  ]
}